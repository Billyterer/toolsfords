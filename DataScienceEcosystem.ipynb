{
 "cells": [
  {
   "cell_type": "markdown",
   "id": "71df3b19",
   "metadata": {},
   "source": [
    "# Data Science and its Ecosytem"
   ]
  },
  {
   "cell_type": "markdown",
   "id": "f4fa8be8",
   "metadata": {},
   "source": [
    " In this notebook Data Science Tools and ecosystems are summarised"
   ]
  },
  {
   "cell_type": "markdown",
   "id": "3110ecdb",
   "metadata": {},
   "source": [
    "Some of popular languages that Data scientist use are:\n",
    "1. Python\n",
    "2. Sql\n",
    "3. C++"
   ]
  },
  {
   "cell_type": "markdown",
   "id": "cf0126d1",
   "metadata": {},
   "source": [
    "Some of the commonly used libraries use by Data scientists include :\n",
    "1. TensorFlow\n",
    "2. NumPy\n",
    "3. SciPy\n",
    "4. Pandas\n",
    "5. Matplotlib\n",
    "6. Keras\n",
    "7. SciKit-Learn\n",
    "8. Pytorch"
   ]
  },
  {
   "cell_type": "markdown",
   "id": "b0619d29",
   "metadata": {},
   "source": [
    "|Data Science Tools|\n",
    "|...|\n",
    "|SAS|\n",
    "|APPACHE HUDOOP|\n",
    "|TensorFlow|"
   ]
  },
  {
   "cell_type": "markdown",
   "id": "96a3ff3b",
   "metadata": {},
   "source": [
    "### Below are a few examples of evaluating arithmetic expressions in python"
   ]
  },
  {
   "cell_type": "code",
   "execution_count": 2,
   "id": "934c6e90",
   "metadata": {},
   "outputs": [
    {
     "data": {
      "text/plain": [
       "17"
      ]
     },
     "execution_count": 2,
     "metadata": {},
     "output_type": "execute_result"
    }
   ],
   "source": [
    " #This a simple arithmetic expression to mutiply then add integers\n",
    "(3*4)+5"
   ]
  },
  {
   "cell_type": "code",
   "execution_count": 3,
   "id": "2a7a2020",
   "metadata": {},
   "outputs": [
    {
     "data": {
      "text/plain": [
       "3.3333333333333335"
      ]
     },
     "execution_count": 3,
     "metadata": {},
     "output_type": "execute_result"
    }
   ],
   "source": [
    "# This will convert 200 minutes to hours by diving by 60\n",
    "200/60"
   ]
  },
  {
   "cell_type": "markdown",
   "id": "231aea1f",
   "metadata": {},
   "source": [
    "__Objective__\n",
    "1. Listing popular languages in data science\n",
    "2. Listing popular libraries in data science\n",
    "3. List of well known data science tools.\n",
    "4. How to provide comments in the cell "
   ]
  },
  {
   "cell_type": "markdown",
   "id": "262c3819",
   "metadata": {},
   "source": [
    "## AUTHOR\n",
    "Goorav Kumar"
   ]
  }
 ],
 "metadata": {
  "kernelspec": {
   "display_name": "Python 3 (ipykernel)",
   "language": "python",
   "name": "python3"
  },
  "language_info": {
   "codemirror_mode": {
    "name": "ipython",
    "version": 3
   },
   "file_extension": ".py",
   "mimetype": "text/x-python",
   "name": "python",
   "nbconvert_exporter": "python",
   "pygments_lexer": "ipython3",
   "version": "3.11.4"
  }
 },
 "nbformat": 4,
 "nbformat_minor": 5
}
